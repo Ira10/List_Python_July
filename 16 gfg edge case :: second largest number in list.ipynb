{
 "cells": [
  {
   "cell_type": "markdown",
   "metadata": {},
   "source": [
    "**Edge Case Handling**\n",
    "\n",
    "In all of the above approaches, it is important to handle edge cases where:\n",
    "\n",
    "1. The list has fewer than two unique numbers.\n",
    "2. The list may contain negative numbers or duplicates.\n",
    "\n",
    "For example, if the list only has one unique number or is empty, the program should return an appropriate message."
   ]
  },
  {
   "cell_type": "code",
   "execution_count": 1,
   "metadata": {},
   "outputs": [
    {
     "name": "stdout",
     "output_type": "stream",
     "text": [
      "The second largest number is: Not enough unique numbers\n"
     ]
    }
   ],
   "source": [
    "def find_second_largest(numbers):\n",
    "    unique_numbers = list(set(numbers))\n",
    "    \n",
    "    if len(unique_numbers) < 2:\n",
    "        return \"Not enough unique numbers\"\n",
    "    \n",
    "    return sorted(unique_numbers)[-2]\n",
    "\n",
    "# Example usage\n",
    "numbers = [99, 99]\n",
    "second_largest = find_second_largest(numbers)\n",
    "print(\"The second largest number is:\", second_largest)"
   ]
  },
  {
   "cell_type": "markdown",
   "metadata": {},
   "source": [
    "### Get Second Largest Number using Python’s max() Function\n",
    "This method finds the second largest number by first identifying the largest number using max() and then removing it from the list to find the new maximum (which is the second largest)."
   ]
  },
  {
   "cell_type": "code",
   "execution_count": 2,
   "metadata": {},
   "outputs": [
    {
     "name": "stdout",
     "output_type": "stream",
     "text": [
      "The second largest number is: 45\n"
     ]
    }
   ],
   "source": [
    "def find_second_largest(numbers):\n",
    "    largest = max(numbers)\n",
    "    numbers.remove(largest)\n",
    "    return max(numbers)\n",
    "\n",
    "# Example usage\n",
    "numbers = [10, 20, 4, 45, 99]\n",
    "second_largest = find_second_largest(numbers)\n",
    "print(\"The second largest number is:\", second_largest)\n"
   ]
  },
  {
   "cell_type": "markdown",
   "metadata": {},
   "source": [
    "#### Find Second Largest Number Without Sorting (Using Loops)\n",
    "This approach iterates through the list and identifies the largest and second-largest numbers without the need for sorting. It works efficiently for larger lists since sorting has a time complexity of O(n log n), whereas this method operates in O(n) time."
   ]
  },
  {
   "cell_type": "code",
   "execution_count": 3,
   "metadata": {},
   "outputs": [
    {
     "name": "stdout",
     "output_type": "stream",
     "text": [
      "The second largest number is: 45\n"
     ]
    }
   ],
   "source": [
    "def find_second_largest(numbers):\n",
    "    largest = second_largest = float('-inf')\n",
    "    \n",
    "    for num in numbers:\n",
    "        if num > largest:\n",
    "            second_largest = largest\n",
    "            largest = num\n",
    "        elif num > second_largest and num != largest:\n",
    "            second_largest = num\n",
    "    \n",
    "    return second_largest\n",
    "\n",
    "# Example usage\n",
    "numbers = [10, 20, 4, 45, 99]\n",
    "second_largest = find_second_largest(numbers)\n",
    "print(\"The second largest number is:\", second_largest)\n"
   ]
  }
 ],
 "metadata": {
  "kernelspec": {
   "display_name": "Python 3",
   "language": "python",
   "name": "python3"
  },
  "language_info": {
   "codemirror_mode": {
    "name": "ipython",
    "version": 3
   },
   "file_extension": ".py",
   "mimetype": "text/x-python",
   "name": "python",
   "nbconvert_exporter": "python",
   "pygments_lexer": "ipython3",
   "version": "3.9.6"
  }
 },
 "nbformat": 4,
 "nbformat_minor": 2
}
